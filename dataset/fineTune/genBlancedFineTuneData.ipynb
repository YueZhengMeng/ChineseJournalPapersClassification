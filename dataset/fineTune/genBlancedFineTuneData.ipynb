{
 "cells": [
  {
   "cell_type": "code",
   "execution_count": 1,
   "outputs": [
    {
     "name": "stderr",
     "output_type": "stream",
     "text": [
      "D:\\anaconda3\\envs\\pytorch\\lib\\site-packages\\tqdm\\auto.py:22: TqdmWarning: IProgress not found. Please update jupyter and ipywidgets. See https://ipywidgets.readthedocs.io/en/stable/user_install.html\n",
      "  from .autonotebook import tqdm as notebook_tqdm\n"
     ]
    },
    {
     "data": {
      "text/plain": "                                               input_ids  \\\n0      [101, 5401, 1744, 1762, 517, 1059, 7481, 4881,...   \n1      [101, 5307, 6814, 3941, 4510, 7349, 4764, 6662...   \n2      [101, 7946, 3419, 2209, 3124, 3780, 1528, 2110...   \n3      [101, 8182, 131, 5401, 1744, 5307, 3845, 6139,...   \n4      [101, 1825, 754, 2520, 1403, 1825, 1141, 3144,...   \n...                                                  ...   \n35954  [101, 2544, 3797, 6781, 2198, 118, 1772, 4685,...   \n35955  [101, 3917, 3777, 3152, 1265, 4638, 1079, 3891...   \n35956  [101, 6153, 4397, 3315, 722, 4917, 1993, 754, ...   \n35957  [101, 1062, 6662, 3441, 3448, 5335, 934, 1217,...   \n35958  [101, 3717, 3799, 1825, 3332, 3160, 6162, 5361...   \n\n                                          attention_mask  labels  \n0      [1, 1, 1, 1, 1, 1, 1, 1, 1, 1, 1, 1, 1, 1, 1, ...       8  \n1      [1, 1, 1, 1, 1, 1, 1, 1, 1, 1, 1, 1, 1, 1, 1, ...       5  \n2      [1, 1, 1, 1, 1, 1, 1, 1, 1, 1, 1, 1, 1, 1, 1, ...       8  \n3      [1, 1, 1, 1, 1, 1, 1, 1, 1, 1, 1, 1, 1, 1, 1, ...      11  \n4      [1, 1, 1, 1, 1, 1, 1, 1, 1, 1, 1, 1, 1, 1, 1, ...       5  \n...                                                  ...     ...  \n35954  [1, 1, 1, 1, 1, 1, 1, 1, 1, 1, 1, 1, 1, 1, 1, ...       5  \n35955  [1, 1, 1, 1, 1, 1, 1, 1, 1, 1, 1, 1, 1, 1, 1, ...       3  \n35956  [1, 1, 1, 1, 1, 1, 1, 1, 1, 1, 1, 1, 1, 0, 1, ...       3  \n35957  [1, 1, 1, 1, 1, 1, 1, 1, 1, 1, 1, 1, 1, 1, 1, ...       5  \n35958  [1, 1, 1, 1, 1, 1, 1, 1, 1, 1, 1, 1, 1, 1, 1, ...       5  \n\n[35959 rows x 3 columns]",
      "text/html": "<div>\n<style scoped>\n    .dataframe tbody tr th:only-of-type {\n        vertical-align: middle;\n    }\n\n    .dataframe tbody tr th {\n        vertical-align: top;\n    }\n\n    .dataframe thead th {\n        text-align: right;\n    }\n</style>\n<table border=\"1\" class=\"dataframe\">\n  <thead>\n    <tr style=\"text-align: right;\">\n      <th></th>\n      <th>input_ids</th>\n      <th>attention_mask</th>\n      <th>labels</th>\n    </tr>\n  </thead>\n  <tbody>\n    <tr>\n      <th>0</th>\n      <td>[101, 5401, 1744, 1762, 517, 1059, 7481, 4881,...</td>\n      <td>[1, 1, 1, 1, 1, 1, 1, 1, 1, 1, 1, 1, 1, 1, 1, ...</td>\n      <td>8</td>\n    </tr>\n    <tr>\n      <th>1</th>\n      <td>[101, 5307, 6814, 3941, 4510, 7349, 4764, 6662...</td>\n      <td>[1, 1, 1, 1, 1, 1, 1, 1, 1, 1, 1, 1, 1, 1, 1, ...</td>\n      <td>5</td>\n    </tr>\n    <tr>\n      <th>2</th>\n      <td>[101, 7946, 3419, 2209, 3124, 3780, 1528, 2110...</td>\n      <td>[1, 1, 1, 1, 1, 1, 1, 1, 1, 1, 1, 1, 1, 1, 1, ...</td>\n      <td>8</td>\n    </tr>\n    <tr>\n      <th>3</th>\n      <td>[101, 8182, 131, 5401, 1744, 5307, 3845, 6139,...</td>\n      <td>[1, 1, 1, 1, 1, 1, 1, 1, 1, 1, 1, 1, 1, 1, 1, ...</td>\n      <td>11</td>\n    </tr>\n    <tr>\n      <th>4</th>\n      <td>[101, 1825, 754, 2520, 1403, 1825, 1141, 3144,...</td>\n      <td>[1, 1, 1, 1, 1, 1, 1, 1, 1, 1, 1, 1, 1, 1, 1, ...</td>\n      <td>5</td>\n    </tr>\n    <tr>\n      <th>...</th>\n      <td>...</td>\n      <td>...</td>\n      <td>...</td>\n    </tr>\n    <tr>\n      <th>35954</th>\n      <td>[101, 2544, 3797, 6781, 2198, 118, 1772, 4685,...</td>\n      <td>[1, 1, 1, 1, 1, 1, 1, 1, 1, 1, 1, 1, 1, 1, 1, ...</td>\n      <td>5</td>\n    </tr>\n    <tr>\n      <th>35955</th>\n      <td>[101, 3917, 3777, 3152, 1265, 4638, 1079, 3891...</td>\n      <td>[1, 1, 1, 1, 1, 1, 1, 1, 1, 1, 1, 1, 1, 1, 1, ...</td>\n      <td>3</td>\n    </tr>\n    <tr>\n      <th>35956</th>\n      <td>[101, 6153, 4397, 3315, 722, 4917, 1993, 754, ...</td>\n      <td>[1, 1, 1, 1, 1, 1, 1, 1, 1, 1, 1, 1, 1, 0, 1, ...</td>\n      <td>3</td>\n    </tr>\n    <tr>\n      <th>35957</th>\n      <td>[101, 1062, 6662, 3441, 3448, 5335, 934, 1217,...</td>\n      <td>[1, 1, 1, 1, 1, 1, 1, 1, 1, 1, 1, 1, 1, 1, 1, ...</td>\n      <td>5</td>\n    </tr>\n    <tr>\n      <th>35958</th>\n      <td>[101, 3717, 3799, 1825, 3332, 3160, 6162, 5361...</td>\n      <td>[1, 1, 1, 1, 1, 1, 1, 1, 1, 1, 1, 1, 1, 1, 1, ...</td>\n      <td>5</td>\n    </tr>\n  </tbody>\n</table>\n<p>35959 rows × 3 columns</p>\n</div>"
     },
     "execution_count": 1,
     "metadata": {},
     "output_type": "execute_result"
    }
   ],
   "source": [
    "from datasets import load_from_disk\n",
    "import pandas as pd\n",
    "from tqdm import tqdm\n",
    "dataset = load_from_disk('./dataset_512_head_only')\n",
    "data = dataset['train'].to_pandas()\n",
    "data\n"
   ],
   "metadata": {
    "collapsed": false
   }
  },
  {
   "cell_type": "code",
   "execution_count": 2,
   "outputs": [
    {
     "name": "stderr",
     "output_type": "stream",
     "text": [
      " 78%|███████▊  | 27977/35959 [00:31<00:09, 886.15it/s] \n"
     ]
    }
   ],
   "source": [
    "count = 0\n",
    "for i in tqdm(range(len(data))):\n",
    "    if data['labels'][i] == 5:\n",
    "        data.drop(i, inplace=True,axis=0)\n",
    "        count += 1\n",
    "    if count == 12477:\n",
    "        break"
   ],
   "metadata": {
    "collapsed": false
   }
  },
  {
   "cell_type": "code",
   "execution_count": 3,
   "outputs": [
    {
     "data": {
      "text/plain": "23482"
     },
     "execution_count": 3,
     "metadata": {},
     "output_type": "execute_result"
    }
   ],
   "source": [
    "len(data)"
   ],
   "metadata": {
    "collapsed": false
   }
  },
  {
   "cell_type": "code",
   "execution_count": 4,
   "outputs": [
    {
     "data": {
      "text/plain": "1     3587\n5     3587\n2     3347\n9     3236\n10    2171\n8     2013\n6     1523\n11    1018\n7      947\n4      699\n3      575\n12     466\n0      313\nName: labels, dtype: int64"
     },
     "execution_count": 4,
     "metadata": {},
     "output_type": "execute_result"
    }
   ],
   "source": [
    "label_count = data['labels'].value_counts()\n",
    "label_count"
   ],
   "metadata": {
    "collapsed": false
   }
  },
  {
   "cell_type": "code",
   "execution_count": 5,
   "outputs": [],
   "source": [
    "data = data.sample(frac=1.0) #将数据集打乱"
   ],
   "metadata": {
    "collapsed": false
   }
  },
  {
   "cell_type": "code",
   "execution_count": 6,
   "outputs": [
    {
     "data": {
      "text/plain": "Dataset({\n    features: ['input_ids', 'attention_mask', 'labels', '__index_level_0__'],\n    num_rows: 23482\n})"
     },
     "execution_count": 6,
     "metadata": {},
     "output_type": "execute_result"
    }
   ],
   "source": [
    "from datasets import Dataset\n",
    "dataset = Dataset.from_pandas(data)\n",
    "dataset"
   ],
   "metadata": {
    "collapsed": false
   }
  },
  {
   "cell_type": "code",
   "execution_count": 7,
   "outputs": [
    {
     "data": {
      "text/plain": "Dataset({\n    features: ['input_ids', 'attention_mask', 'labels'],\n    num_rows: 23482\n})"
     },
     "execution_count": 7,
     "metadata": {},
     "output_type": "execute_result"
    }
   ],
   "source": [
    "dataset.remove_columns(\"__index_level_0__\")"
   ],
   "metadata": {
    "collapsed": false
   }
  },
  {
   "cell_type": "code",
   "execution_count": 8,
   "outputs": [],
   "source": [
    "dataset.set_format('torch', columns=['input_ids', 'attention_mask', 'labels'])"
   ],
   "metadata": {
    "collapsed": false
   }
  },
  {
   "cell_type": "code",
   "execution_count": 9,
   "outputs": [],
   "source": [
    "dataset.save_to_disk('./dataset_balanced')\n"
   ],
   "metadata": {
    "collapsed": false
   }
  }
 ],
 "metadata": {
  "kernelspec": {
   "display_name": "Python 3 (ipykernel)",
   "language": "python",
   "name": "python3"
  },
  "language_info": {
   "codemirror_mode": {
    "name": "ipython",
    "version": 3
   },
   "file_extension": ".py",
   "mimetype": "text/x-python",
   "name": "python",
   "nbconvert_exporter": "python",
   "pygments_lexer": "ipython3",
   "version": "3.8.10"
  }
 },
 "nbformat": 4,
 "nbformat_minor": 4
}
