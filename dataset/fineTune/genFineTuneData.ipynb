{
 "cells": [
  {
   "cell_type": "code",
   "execution_count": 49,
   "metadata": {},
   "outputs": [],
   "source": [
    "max_length = 512\n",
    "head_tail = True\n",
    "seed = 3407\n",
    "if head_tail:\n",
    "    save_path = \"./dataset_\" + str(max_length) + \"_head_tail\"\n",
    "else:\n",
    "    save_path = \"./dataset_\" + str(max_length) + \"_head_only\""
   ]
  },
  {
   "cell_type": "code",
   "execution_count": 50,
   "metadata": {
    "collapsed": false,
    "jupyter": {
     "outputs_hidden": false
    }
   },
   "outputs": [],
   "source": [
    "import sys\n",
    "sys.path.append(\"..\")\n",
    "from classification_dict import dict_discipline_en,dict_category_en"
   ]
  },
  {
   "cell_type": "code",
   "execution_count": 51,
   "metadata": {
    "collapsed": false,
    "jupyter": {
     "outputs_hidden": false
    }
   },
   "outputs": [
    {
     "data": {
      "text/plain": "   sentence                                   title  \\\n0                                      分布式系统中的检查点算法   \n1                                       轧辊的失效及其修复技术   \n2                                 活检钳不同预清洗方法的清洗质量评价   \n3                               Rhn(n=2～20)团簇结构和磁特性   \n4                                一种反激式DC-DC变换器设计与研究   \n5                                    航天测控系统卫星鉴定技术研究   \n6                    不同能量摄入对围产期奶牛脂肪组织胰岛素受体mRNA丰度的影响   \n7                重大军事行动报道的成功实践——兼谈对外开放军事行动中新闻的管控与发布   \n8                                    不忘艺术初心搞好高校“双创”   \n9                              一种业务概念模型驱动的需求分析与获取方法   \n10               暖温带幼林树轮宽度气候变化响应分析--以山东蒙山黑松树轮气候研究为例   \n11                            关于集成化汽车故障诊断系统及其支持技术研究   \n12           北秦岭西段胡店片麻状二长花岗岩LA-ICP-MS锆石U-Pb测年及其地质意义   \n13                        太阳河自然保护区西南桦天然次生林乔木种群生态位分析   \n14                 锌对孕期暴露脂多糖Wistar大鼠雌性成年子代行为的影响及其机制   \n15                               改进的遗传优化算法在节点定位中的应用   \n16                        求真务实 追求发展--黑龙江省图书馆学会工作新途径   \n17                                 非水合质子导电膜材料的研究与应用   \n18                          超越结构功能主义:中国传播学的前世、今生与未来   \n19                                 TPV系统热辐射发电模块数值分析   \n20                             有机酸强化脱硫在喷射鼓泡反应器上实验研究   \n21                        可持续的城市规划与建设花桥国际商务城的规划建设实践   \n22                                   江苏沿海大风特征及其变化分析   \n23                                超声波处理对鸭肫腌制工艺的影响研究   \n24                           高温水中不锈钢和镍基合金应力腐蚀破裂研究进展   \n25                          Nb、Ti微合金钢中碳氮化物固溶与再析出的研究   \n26                       ITO/Rubrene表面及界面的AFM和XPS研究   \n27                           几种杀菌剂及其混配剂对香蕉枯萎病菌的毒力测定   \n28                              高压超临界萃取装置的模糊PID控制方法   \n29                     城市化对水系结构及其连通性的影响——以秦淮河中、下游为例   \n30                             重力坝地质力学模型变位特征及安全系数分析   \n31                                高钙飞灰的矿物学组成及微区特征研究   \n32                                        随机微分方程的强解   \n33                                 光学非球面三坐标测量中的像散补偿   \n34                              基于DEM的分布式并行通视分析算法研究   \n35                           一种基于谱分析的非带限卫星信号信噪比估计算法   \n36                        小动物PET/CT活体成像时小鼠体温控制系统的设计   \n37                              \"SST对台风\"珍珠\"影响的数值试验\"   \n38                                          依维莫司的合成   \n39                           由斑玛云杉年表重建青海高原东南部夏季降水序列   \n40                               韶钢2200 m3高炉炉凉事故的处理   \n41                               一种新型二维光正交码的设计及性能分析   \n42                                       河蟹蜕壳时的管理措施   \n43                                    全球化压力下的中国文化走向   \n44                                    猕猴桃籽油微胶囊化技术研究   \n45                                考虑气象特征提取的短期风速预测方法   \n46                       三江平原12种湿地植物光合特性与叶功能性状的关系研究   \n47                           渤海、北黄海冰情与太平洋副热带高压的统计关系   \n48                           ESR和FSHβ基因对苏太猪断奶存活率的影响   \n\n                                             abstract  \\\n0   检查点能够保存和恢复程序的运行状态.它在进程迁移、容错、卷回调试等领域都有重要的应用.本文对...   \n1   轧辊是轧机的主要变形工具,由于自身材质及其所处的恶劣工作条件,经常发生失效乃至报废,通过修复...   \n2   目的：探讨活检钳3种不同预清洗方法的清洗质量。方法选择2014年5—8月某院使用后的宫颈活检...   \n3   使用紧束缚近似多体势和遗传算法,计算了Rhn(n=2～20)团簇的基态结构.据优化结构计算了...   \n4   针对电池电源管理中的开关变换器应用,采用NCP1200电流型PWM控制芯片设计了一种多路隔离...   \n5   \"针对基于卫星的航天测控系统精度鉴定技术开展了深入的分析和研究,提出了较为全面的卫星鉴定的思...   \n6   将年龄、胎次相同,年产奶量大于5 000 kg的围产期健康奶牛30头随机分为3组,每组10头...   \n7   \"上海合作组织全体成员国首次共同参加的联合军事行动--\"和平使命-2007\"反恐军事演习,8...   \n8   我们要认真学习、领悟、践行习近平总书记重要讲话精神,以此为理论指南,沿着正确的航向,扎实做好...   \n9   需求分析是军事电子信息系统建设的难点.本文在总结国外ADL/ESS研究成果基础上,结合军事电...   \n10  根据采自山东蒙山地区两组幼龄黑松树木年轮样本，研制出单点和区域树轮宽度年表，分析了蒙山黑松树...   \n11  集成化汽车故障诊断系统有两种不同的体系结构,可由状态检测、信息融合、故障诊断、网络信息获取以...   \n12  北秦岭西段陕西胡店片麻状细粒二长花岗岩中获得(1770±13)Ma的LA-ICP-MS单颗粒...   \n13  采用种群重要值、生态位宽度和生态位重叠等研究方法,对云南省太阳河自然保护区的西南桦天然次生林...   \n14  目的:探讨硫酸锌(ZnSO4)注射液对孕期暴露于脂多糖(lipopolysaccharide...   \n15  针对无线传感器网络算法定位精度不高的问题，提出一种定位算法（GADO），该算法将动力学中进化...   \n16  随着知识经济时代的来临,省级图书馆学会应在运行机制和管理手段方面,勇于创新,以此提高本区域学...   \n17  质子传导和质子导电材料在电池、电化学传感器、水/蒸汽电解以及生物系统中起着越来越重要的作用....   \n18  清理与反思,是我们这次对话会的主旨.传播技术变革激发的史无前例的社会巨变,也为此提供了一个清...   \n19  建立TPV系统热辐射发电模块的数理模型,通过数值模拟获得SiC辐射器分别配合GaSb和Si电...   \n20  选取甲酸、乙酸、乙二酸和己二酸,在喷射鼓泡反应器上对有机酸强化脱硫过程进行了实验研究,测定了...   \n21  花桥国际商务城的建设是江苏昆山城市发展战略转移的重要节点,规划建设以可持续发展思想为指导,突...   \n22  利用1981-2010年江苏沿海地区的大风资料,分析30 a沿海大风气候特征,结果表明:江苏...   \n23  以腌制品色泽和食盐含量为主要指标,探讨采用超声波腌制对鸭盹腌制工艺的影响研究.试验结果表明:...   \n24  综述了近 20年来国内外对高温水中不锈钢和镍基合金应力腐蚀破裂研究的最新研究结果，主要考察了...   \n25  利用光学显微镜(OM)、透射电子显微镜(TEM)研究了再加热温度、奥氏体区变形温度和组织转变...   \n26  采用原子力显微镜(AFM)和X射线光电子能谱仪(XPS)研究了氧化铟锡(ITO)/红荧烯(R...   \n27  采用菌丝生长速率法测定了8种杀菌剂对香蕉枯萎病菌的毒力,并在此基础上用Horsfall的毒力...   \n28  高压超临界萃取控制参数具有时变、非线性的特点,对其进行精确控制具有很大难度.PID控制广泛应...   \n29  针对当前城市化所引起水系衰减、河流连通受阻以及由此所引起洪涝与水环境的问题,以秦淮河中、下游...   \n30  为了获取某重力坝典型坝段的安全系数,对该重力坝段进行了地质力学模型试验.试验中采用传统的差动...   \n31  对小龙潭电厂飞灰及不同密度级的分选灰的矿物学和颗粒微区特征进行了详细研究,高钙飞灰中的含钙矿...   \n32            在这篇文章中我们通过一种去掉扩散系数的变换证明了随机微分方程强解的存在唯一性.   \n33  利用三坐标测量仪在光学非球面镜研磨与粗抛阶段进行面形检测时,测量结果常由于补偿程序不完善而出...   \n34  从负载均衡的角度详细分析了数据并行的特征,提出一种通用且有效数据可达的DEM数据划分策略.基...   \n35  为了实现对非带限卫星信号信噪比的快速高精度估计，分析了传统的基于谱分析的信噪比估计算法的对非...   \n36  目的 设计出不影响图像质量的加热系统,以消除小动物PET/CT活体成像时影响肿瘤代谢的体温因...   \n37  \"本文使用了最新的中尺度大气模式WRF模式,结合Nudging方法和自动移动嵌套方法,采用T...   \n38  乙二醇依次与叔丁基二苯基氯硅烷、对甲基苯磺酰氯、溴化钠反应生成(2-溴乙氧基)叔丁基二苯基硅...   \n39  用青海省东南部斑玛地区的一个云杉年表与其周围的单站和区域的气象要素反复校准和验证,发现该云杉...   \n40  对韶钢2200m3高炉炉凉事故发生的原因进行了分析,认为原燃料质量下降、高炉操作处理不当和冷...   \n41  在保证误码率较低的前提下,为了获得较大的码容量,现以扩展二次素数码作为扩时序列,以二次全等跳...   \n42  近几年来,我们对河蟹蜕壳前后的管理与最后的收成效益关系进行了观察研究,取得了一定的经验.现小...   \n43  在经济全球化的推动下,文化也正在冲破国家的、民族的文化壁垒.文化的全球化打破了地区和本土文化...   \n44  猕猴桃籽油中不饱和脂肪酸含量较高,特别是亚麻酸含量高达63.99%.为防止猕猴桃籽油的氧化,...   \n45  为提高短期风速预测精度,研究了考虑气象特征提取的短期风速预测方法.针对输入气象特征较多且难以...   \n46  采用野外气体交换测量和实验室分析等方法,对三江平原湿地12种优势草本植物的光合生理指标、植物...   \n47  对1975-2006年逐月太平洋副热带高压面积和强度指数序列与渤海、北黄海冰情等级序列进行了...   \n48  衡量仔猪培育水平高低的一个重要指标就是仔猪断奶存活率.断奶存活率的高低关系着养猪生产效益的高...   \n\n                                             keywords     discipline category  \n0                           检查点_分布式程序_异步检查点算法_一致检查点算法       计算机科学与技术       工学  \n1                                冷轧辊_热轧辊_失效_修复_表面改性技术        材料科学与工程       工学  \n2                   活检钳_清洗方法_预清洗_清洗质量_潜血试验_ATP 生物荧光检测      公共卫生与预防医学       医学  \n3                                      铑团簇_遗传算法_结构_磁性            物理学       理学  \n4                               反激式DC-DC变换器_寄生参数_钳位电路           电气工程       工学  \n5                    卫星鉴定_SLR卫星_EMBET_高斯-马尔可夫估计_主成分估计      航空宇航科学与技术       工学  \n6               能量摄入_围产期奶牛_脂肪组织_胰岛素受体mRNA_半定量RT-PCR方法        畜牧学/兽医学       农学  \n7   重大军事行动_成功实践_对外开放_新闻_军事演习_合作组织_训练场_俄罗斯_城市车_成员国_...          新闻传播学       文学  \n8                      文化建设_高校_艺术教育_双创_中国特色的艺术学_可持续发展            艺术学      艺术学  \n9                    军事电子信息系统_需求工程_需求建模_业务语义框架_业务概念模型            军事学      军事学  \n10                                    蒙山_黑松_树轮宽度_气候响应        林学/林业工程       农学  \n11                                   汽车_故障诊断_集成系统_网络化         交通运输工程       工学  \n12        北秦岭造山带_胡店片麻状二长花岗岩_U-Pb同位素_吕梁运动_ColuInbia超大陆  地质学/地质资源与地质工程       理学  \n13                     西南桦林_红木荷_重要值_生态位宽度_生态位重叠_相关性分析        林学/林业工程       农学  \n14                                锌_孕期_大鼠_脂多糖_子代_应激反应        食品科学与工程       工学  \n15                                   动力学_遗传算法_定位算法_精度       计算机科学与技术       工学  \n16                                         学会工作_发展_创新    图书馆、情报与档案管理      管理学  \n17  水合_质子导电材料_膜材料_电化学传感器_质子导体_质子传导_生物系统_技术领域_材料科学_...           电气工程       工学  \n18  结构_功能主义_中国_传播学_现实场景_社会巨变_历史_技术变革_对话_断裂现象_注意力_思...          新闻传播学       文学  \n19                                  TPV_系统输出电能密度_电池效率            物理学       理学  \n20                                 有机酸_石灰石_喷射鼓泡反应器_脱硫        环境科学与工程       工学  \n21                         花桥_可持续发展_金融服务外包_生态商务城_多元文化            建筑学       工学  \n22                                沿海大风_雷雨大风_季节特征_天气成因           大气科学       理学  \n23                                        超声波_腌制工艺_鸭肫        食品科学与工程       工学  \n24                             核能_高温水_不锈钢_镍基合金_应力腐蚀破裂         核科学与技术       工学  \n25                           微合金钢_碳氮化物_细晶强化_沉淀强化_组织演变        材料科学与工程       工学  \n26                               XPS_Rubrene_化学位移_界面态           光学工程       工学  \n27                               香蕉枯萎病菌_杀菌剂_毒力测定_增效作用           植物保护       农学  \n28                              PID_超临界萃取_模糊控制_S7-200        控制科学与工程       工学  \n29                                   水系结构_连通性_城市化_秦淮河            地理学       理学  \n30                              光纤传感器_位移监测_重力坝模型_安全系数           水利工程       工学  \n31                             高钙飞灰_密度分选_矿物学_微区特征_煤燃烧     动力工程及工程热物理       工学  \n32                     It(o)-Ventzell公式_随机偏微分方程_常微分方程             数学       理学  \n33                           非球面检测_三坐标测量仪_测头半径补偿_像散补偿           光学工程       工学  \n34                                 DEM_通视分析_分布式并行_加速比            地理学       理学  \n35                                 信噪比估计_谱分析_非带限_卫星信号            军事学      军事学  \n36        正电子发射断层显像术_体层摄影术,X线计算机_体温_加热系统_疾病模型,动物_大鼠,裸      基础医学/临床医学       医学  \n37                                    WRF_数值试验_SST_台风           海洋科学       理学  \n38                       依维莫司_大环内酯类化合物_抗肿瘤药_三氟甲磺酸银_合成             药学       医学  \n39                                    云杉_年轮_夏季降水_青海高原           大气科学       理学  \n40                                    大型高炉_炉凉_高炉操作_原料           冶金工程       工学  \n41                        光码分多址系统_扩展二次素数码_二次全等跳频码_误码率        信息与通信工程       工学  \n42                                     河蟹_蜕壳_效益_经验_管理             水产       农学  \n43                                          全球化_文化_走向            政治学       法学  \n44                                     猕猴桃籽油_微胶囊_喷雾干燥           农业工程       工学  \n45                       短期风速预测_珊瑚礁算法_极限学习机_特征提取_气象特征        控制科学与工程       工学  \n46                               光合特性_叶功能性状_湿地植物_三江平原            地理学       理学  \n47                                        海冰_副热带高压_统计           海洋科学       理学  \n48  基因对_苏太猪_断奶_存活率_分子生物技术_标记辅助选择_仔猪培育_繁殖性状_生产效益_遗传...        畜牧学/兽医学       农学  ",
      "text/html": "<div>\n<style scoped>\n    .dataframe tbody tr th:only-of-type {\n        vertical-align: middle;\n    }\n\n    .dataframe tbody tr th {\n        vertical-align: top;\n    }\n\n    .dataframe thead th {\n        text-align: right;\n    }\n</style>\n<table border=\"1\" class=\"dataframe\">\n  <thead>\n    <tr style=\"text-align: right;\">\n      <th></th>\n      <th>sentence</th>\n      <th>title</th>\n      <th>abstract</th>\n      <th>keywords</th>\n      <th>discipline</th>\n      <th>category</th>\n    </tr>\n  </thead>\n  <tbody>\n    <tr>\n      <th>0</th>\n      <td></td>\n      <td>分布式系统中的检查点算法</td>\n      <td>检查点能够保存和恢复程序的运行状态.它在进程迁移、容错、卷回调试等领域都有重要的应用.本文对...</td>\n      <td>检查点_分布式程序_异步检查点算法_一致检查点算法</td>\n      <td>计算机科学与技术</td>\n      <td>工学</td>\n    </tr>\n    <tr>\n      <th>1</th>\n      <td></td>\n      <td>轧辊的失效及其修复技术</td>\n      <td>轧辊是轧机的主要变形工具,由于自身材质及其所处的恶劣工作条件,经常发生失效乃至报废,通过修复...</td>\n      <td>冷轧辊_热轧辊_失效_修复_表面改性技术</td>\n      <td>材料科学与工程</td>\n      <td>工学</td>\n    </tr>\n    <tr>\n      <th>2</th>\n      <td></td>\n      <td>活检钳不同预清洗方法的清洗质量评价</td>\n      <td>目的：探讨活检钳3种不同预清洗方法的清洗质量。方法选择2014年5—8月某院使用后的宫颈活检...</td>\n      <td>活检钳_清洗方法_预清洗_清洗质量_潜血试验_ATP 生物荧光检测</td>\n      <td>公共卫生与预防医学</td>\n      <td>医学</td>\n    </tr>\n    <tr>\n      <th>3</th>\n      <td></td>\n      <td>Rhn(n=2～20)团簇结构和磁特性</td>\n      <td>使用紧束缚近似多体势和遗传算法,计算了Rhn(n=2～20)团簇的基态结构.据优化结构计算了...</td>\n      <td>铑团簇_遗传算法_结构_磁性</td>\n      <td>物理学</td>\n      <td>理学</td>\n    </tr>\n    <tr>\n      <th>4</th>\n      <td></td>\n      <td>一种反激式DC-DC变换器设计与研究</td>\n      <td>针对电池电源管理中的开关变换器应用,采用NCP1200电流型PWM控制芯片设计了一种多路隔离...</td>\n      <td>反激式DC-DC变换器_寄生参数_钳位电路</td>\n      <td>电气工程</td>\n      <td>工学</td>\n    </tr>\n    <tr>\n      <th>5</th>\n      <td></td>\n      <td>航天测控系统卫星鉴定技术研究</td>\n      <td>\"针对基于卫星的航天测控系统精度鉴定技术开展了深入的分析和研究,提出了较为全面的卫星鉴定的思...</td>\n      <td>卫星鉴定_SLR卫星_EMBET_高斯-马尔可夫估计_主成分估计</td>\n      <td>航空宇航科学与技术</td>\n      <td>工学</td>\n    </tr>\n    <tr>\n      <th>6</th>\n      <td></td>\n      <td>不同能量摄入对围产期奶牛脂肪组织胰岛素受体mRNA丰度的影响</td>\n      <td>将年龄、胎次相同,年产奶量大于5 000 kg的围产期健康奶牛30头随机分为3组,每组10头...</td>\n      <td>能量摄入_围产期奶牛_脂肪组织_胰岛素受体mRNA_半定量RT-PCR方法</td>\n      <td>畜牧学/兽医学</td>\n      <td>农学</td>\n    </tr>\n    <tr>\n      <th>7</th>\n      <td></td>\n      <td>重大军事行动报道的成功实践——兼谈对外开放军事行动中新闻的管控与发布</td>\n      <td>\"上海合作组织全体成员国首次共同参加的联合军事行动--\"和平使命-2007\"反恐军事演习,8...</td>\n      <td>重大军事行动_成功实践_对外开放_新闻_军事演习_合作组织_训练场_俄罗斯_城市车_成员国_...</td>\n      <td>新闻传播学</td>\n      <td>文学</td>\n    </tr>\n    <tr>\n      <th>8</th>\n      <td></td>\n      <td>不忘艺术初心搞好高校“双创”</td>\n      <td>我们要认真学习、领悟、践行习近平总书记重要讲话精神,以此为理论指南,沿着正确的航向,扎实做好...</td>\n      <td>文化建设_高校_艺术教育_双创_中国特色的艺术学_可持续发展</td>\n      <td>艺术学</td>\n      <td>艺术学</td>\n    </tr>\n    <tr>\n      <th>9</th>\n      <td></td>\n      <td>一种业务概念模型驱动的需求分析与获取方法</td>\n      <td>需求分析是军事电子信息系统建设的难点.本文在总结国外ADL/ESS研究成果基础上,结合军事电...</td>\n      <td>军事电子信息系统_需求工程_需求建模_业务语义框架_业务概念模型</td>\n      <td>军事学</td>\n      <td>军事学</td>\n    </tr>\n    <tr>\n      <th>10</th>\n      <td></td>\n      <td>暖温带幼林树轮宽度气候变化响应分析--以山东蒙山黑松树轮气候研究为例</td>\n      <td>根据采自山东蒙山地区两组幼龄黑松树木年轮样本，研制出单点和区域树轮宽度年表，分析了蒙山黑松树...</td>\n      <td>蒙山_黑松_树轮宽度_气候响应</td>\n      <td>林学/林业工程</td>\n      <td>农学</td>\n    </tr>\n    <tr>\n      <th>11</th>\n      <td></td>\n      <td>关于集成化汽车故障诊断系统及其支持技术研究</td>\n      <td>集成化汽车故障诊断系统有两种不同的体系结构,可由状态检测、信息融合、故障诊断、网络信息获取以...</td>\n      <td>汽车_故障诊断_集成系统_网络化</td>\n      <td>交通运输工程</td>\n      <td>工学</td>\n    </tr>\n    <tr>\n      <th>12</th>\n      <td></td>\n      <td>北秦岭西段胡店片麻状二长花岗岩LA-ICP-MS锆石U-Pb测年及其地质意义</td>\n      <td>北秦岭西段陕西胡店片麻状细粒二长花岗岩中获得(1770±13)Ma的LA-ICP-MS单颗粒...</td>\n      <td>北秦岭造山带_胡店片麻状二长花岗岩_U-Pb同位素_吕梁运动_ColuInbia超大陆</td>\n      <td>地质学/地质资源与地质工程</td>\n      <td>理学</td>\n    </tr>\n    <tr>\n      <th>13</th>\n      <td></td>\n      <td>太阳河自然保护区西南桦天然次生林乔木种群生态位分析</td>\n      <td>采用种群重要值、生态位宽度和生态位重叠等研究方法,对云南省太阳河自然保护区的西南桦天然次生林...</td>\n      <td>西南桦林_红木荷_重要值_生态位宽度_生态位重叠_相关性分析</td>\n      <td>林学/林业工程</td>\n      <td>农学</td>\n    </tr>\n    <tr>\n      <th>14</th>\n      <td></td>\n      <td>锌对孕期暴露脂多糖Wistar大鼠雌性成年子代行为的影响及其机制</td>\n      <td>目的:探讨硫酸锌(ZnSO4)注射液对孕期暴露于脂多糖(lipopolysaccharide...</td>\n      <td>锌_孕期_大鼠_脂多糖_子代_应激反应</td>\n      <td>食品科学与工程</td>\n      <td>工学</td>\n    </tr>\n    <tr>\n      <th>15</th>\n      <td></td>\n      <td>改进的遗传优化算法在节点定位中的应用</td>\n      <td>针对无线传感器网络算法定位精度不高的问题，提出一种定位算法（GADO），该算法将动力学中进化...</td>\n      <td>动力学_遗传算法_定位算法_精度</td>\n      <td>计算机科学与技术</td>\n      <td>工学</td>\n    </tr>\n    <tr>\n      <th>16</th>\n      <td></td>\n      <td>求真务实 追求发展--黑龙江省图书馆学会工作新途径</td>\n      <td>随着知识经济时代的来临,省级图书馆学会应在运行机制和管理手段方面,勇于创新,以此提高本区域学...</td>\n      <td>学会工作_发展_创新</td>\n      <td>图书馆、情报与档案管理</td>\n      <td>管理学</td>\n    </tr>\n    <tr>\n      <th>17</th>\n      <td></td>\n      <td>非水合质子导电膜材料的研究与应用</td>\n      <td>质子传导和质子导电材料在电池、电化学传感器、水/蒸汽电解以及生物系统中起着越来越重要的作用....</td>\n      <td>水合_质子导电材料_膜材料_电化学传感器_质子导体_质子传导_生物系统_技术领域_材料科学_...</td>\n      <td>电气工程</td>\n      <td>工学</td>\n    </tr>\n    <tr>\n      <th>18</th>\n      <td></td>\n      <td>超越结构功能主义:中国传播学的前世、今生与未来</td>\n      <td>清理与反思,是我们这次对话会的主旨.传播技术变革激发的史无前例的社会巨变,也为此提供了一个清...</td>\n      <td>结构_功能主义_中国_传播学_现实场景_社会巨变_历史_技术变革_对话_断裂现象_注意力_思...</td>\n      <td>新闻传播学</td>\n      <td>文学</td>\n    </tr>\n    <tr>\n      <th>19</th>\n      <td></td>\n      <td>TPV系统热辐射发电模块数值分析</td>\n      <td>建立TPV系统热辐射发电模块的数理模型,通过数值模拟获得SiC辐射器分别配合GaSb和Si电...</td>\n      <td>TPV_系统输出电能密度_电池效率</td>\n      <td>物理学</td>\n      <td>理学</td>\n    </tr>\n    <tr>\n      <th>20</th>\n      <td></td>\n      <td>有机酸强化脱硫在喷射鼓泡反应器上实验研究</td>\n      <td>选取甲酸、乙酸、乙二酸和己二酸,在喷射鼓泡反应器上对有机酸强化脱硫过程进行了实验研究,测定了...</td>\n      <td>有机酸_石灰石_喷射鼓泡反应器_脱硫</td>\n      <td>环境科学与工程</td>\n      <td>工学</td>\n    </tr>\n    <tr>\n      <th>21</th>\n      <td></td>\n      <td>可持续的城市规划与建设花桥国际商务城的规划建设实践</td>\n      <td>花桥国际商务城的建设是江苏昆山城市发展战略转移的重要节点,规划建设以可持续发展思想为指导,突...</td>\n      <td>花桥_可持续发展_金融服务外包_生态商务城_多元文化</td>\n      <td>建筑学</td>\n      <td>工学</td>\n    </tr>\n    <tr>\n      <th>22</th>\n      <td></td>\n      <td>江苏沿海大风特征及其变化分析</td>\n      <td>利用1981-2010年江苏沿海地区的大风资料,分析30 a沿海大风气候特征,结果表明:江苏...</td>\n      <td>沿海大风_雷雨大风_季节特征_天气成因</td>\n      <td>大气科学</td>\n      <td>理学</td>\n    </tr>\n    <tr>\n      <th>23</th>\n      <td></td>\n      <td>超声波处理对鸭肫腌制工艺的影响研究</td>\n      <td>以腌制品色泽和食盐含量为主要指标,探讨采用超声波腌制对鸭盹腌制工艺的影响研究.试验结果表明:...</td>\n      <td>超声波_腌制工艺_鸭肫</td>\n      <td>食品科学与工程</td>\n      <td>工学</td>\n    </tr>\n    <tr>\n      <th>24</th>\n      <td></td>\n      <td>高温水中不锈钢和镍基合金应力腐蚀破裂研究进展</td>\n      <td>综述了近 20年来国内外对高温水中不锈钢和镍基合金应力腐蚀破裂研究的最新研究结果，主要考察了...</td>\n      <td>核能_高温水_不锈钢_镍基合金_应力腐蚀破裂</td>\n      <td>核科学与技术</td>\n      <td>工学</td>\n    </tr>\n    <tr>\n      <th>25</th>\n      <td></td>\n      <td>Nb、Ti微合金钢中碳氮化物固溶与再析出的研究</td>\n      <td>利用光学显微镜(OM)、透射电子显微镜(TEM)研究了再加热温度、奥氏体区变形温度和组织转变...</td>\n      <td>微合金钢_碳氮化物_细晶强化_沉淀强化_组织演变</td>\n      <td>材料科学与工程</td>\n      <td>工学</td>\n    </tr>\n    <tr>\n      <th>26</th>\n      <td></td>\n      <td>ITO/Rubrene表面及界面的AFM和XPS研究</td>\n      <td>采用原子力显微镜(AFM)和X射线光电子能谱仪(XPS)研究了氧化铟锡(ITO)/红荧烯(R...</td>\n      <td>XPS_Rubrene_化学位移_界面态</td>\n      <td>光学工程</td>\n      <td>工学</td>\n    </tr>\n    <tr>\n      <th>27</th>\n      <td></td>\n      <td>几种杀菌剂及其混配剂对香蕉枯萎病菌的毒力测定</td>\n      <td>采用菌丝生长速率法测定了8种杀菌剂对香蕉枯萎病菌的毒力,并在此基础上用Horsfall的毒力...</td>\n      <td>香蕉枯萎病菌_杀菌剂_毒力测定_增效作用</td>\n      <td>植物保护</td>\n      <td>农学</td>\n    </tr>\n    <tr>\n      <th>28</th>\n      <td></td>\n      <td>高压超临界萃取装置的模糊PID控制方法</td>\n      <td>高压超临界萃取控制参数具有时变、非线性的特点,对其进行精确控制具有很大难度.PID控制广泛应...</td>\n      <td>PID_超临界萃取_模糊控制_S7-200</td>\n      <td>控制科学与工程</td>\n      <td>工学</td>\n    </tr>\n    <tr>\n      <th>29</th>\n      <td></td>\n      <td>城市化对水系结构及其连通性的影响——以秦淮河中、下游为例</td>\n      <td>针对当前城市化所引起水系衰减、河流连通受阻以及由此所引起洪涝与水环境的问题,以秦淮河中、下游...</td>\n      <td>水系结构_连通性_城市化_秦淮河</td>\n      <td>地理学</td>\n      <td>理学</td>\n    </tr>\n    <tr>\n      <th>30</th>\n      <td></td>\n      <td>重力坝地质力学模型变位特征及安全系数分析</td>\n      <td>为了获取某重力坝典型坝段的安全系数,对该重力坝段进行了地质力学模型试验.试验中采用传统的差动...</td>\n      <td>光纤传感器_位移监测_重力坝模型_安全系数</td>\n      <td>水利工程</td>\n      <td>工学</td>\n    </tr>\n    <tr>\n      <th>31</th>\n      <td></td>\n      <td>高钙飞灰的矿物学组成及微区特征研究</td>\n      <td>对小龙潭电厂飞灰及不同密度级的分选灰的矿物学和颗粒微区特征进行了详细研究,高钙飞灰中的含钙矿...</td>\n      <td>高钙飞灰_密度分选_矿物学_微区特征_煤燃烧</td>\n      <td>动力工程及工程热物理</td>\n      <td>工学</td>\n    </tr>\n    <tr>\n      <th>32</th>\n      <td></td>\n      <td>随机微分方程的强解</td>\n      <td>在这篇文章中我们通过一种去掉扩散系数的变换证明了随机微分方程强解的存在唯一性.</td>\n      <td>It(o)-Ventzell公式_随机偏微分方程_常微分方程</td>\n      <td>数学</td>\n      <td>理学</td>\n    </tr>\n    <tr>\n      <th>33</th>\n      <td></td>\n      <td>光学非球面三坐标测量中的像散补偿</td>\n      <td>利用三坐标测量仪在光学非球面镜研磨与粗抛阶段进行面形检测时,测量结果常由于补偿程序不完善而出...</td>\n      <td>非球面检测_三坐标测量仪_测头半径补偿_像散补偿</td>\n      <td>光学工程</td>\n      <td>工学</td>\n    </tr>\n    <tr>\n      <th>34</th>\n      <td></td>\n      <td>基于DEM的分布式并行通视分析算法研究</td>\n      <td>从负载均衡的角度详细分析了数据并行的特征,提出一种通用且有效数据可达的DEM数据划分策略.基...</td>\n      <td>DEM_通视分析_分布式并行_加速比</td>\n      <td>地理学</td>\n      <td>理学</td>\n    </tr>\n    <tr>\n      <th>35</th>\n      <td></td>\n      <td>一种基于谱分析的非带限卫星信号信噪比估计算法</td>\n      <td>为了实现对非带限卫星信号信噪比的快速高精度估计，分析了传统的基于谱分析的信噪比估计算法的对非...</td>\n      <td>信噪比估计_谱分析_非带限_卫星信号</td>\n      <td>军事学</td>\n      <td>军事学</td>\n    </tr>\n    <tr>\n      <th>36</th>\n      <td></td>\n      <td>小动物PET/CT活体成像时小鼠体温控制系统的设计</td>\n      <td>目的 设计出不影响图像质量的加热系统,以消除小动物PET/CT活体成像时影响肿瘤代谢的体温因...</td>\n      <td>正电子发射断层显像术_体层摄影术,X线计算机_体温_加热系统_疾病模型,动物_大鼠,裸</td>\n      <td>基础医学/临床医学</td>\n      <td>医学</td>\n    </tr>\n    <tr>\n      <th>37</th>\n      <td></td>\n      <td>\"SST对台风\"珍珠\"影响的数值试验\"</td>\n      <td>\"本文使用了最新的中尺度大气模式WRF模式,结合Nudging方法和自动移动嵌套方法,采用T...</td>\n      <td>WRF_数值试验_SST_台风</td>\n      <td>海洋科学</td>\n      <td>理学</td>\n    </tr>\n    <tr>\n      <th>38</th>\n      <td></td>\n      <td>依维莫司的合成</td>\n      <td>乙二醇依次与叔丁基二苯基氯硅烷、对甲基苯磺酰氯、溴化钠反应生成(2-溴乙氧基)叔丁基二苯基硅...</td>\n      <td>依维莫司_大环内酯类化合物_抗肿瘤药_三氟甲磺酸银_合成</td>\n      <td>药学</td>\n      <td>医学</td>\n    </tr>\n    <tr>\n      <th>39</th>\n      <td></td>\n      <td>由斑玛云杉年表重建青海高原东南部夏季降水序列</td>\n      <td>用青海省东南部斑玛地区的一个云杉年表与其周围的单站和区域的气象要素反复校准和验证,发现该云杉...</td>\n      <td>云杉_年轮_夏季降水_青海高原</td>\n      <td>大气科学</td>\n      <td>理学</td>\n    </tr>\n    <tr>\n      <th>40</th>\n      <td></td>\n      <td>韶钢2200 m3高炉炉凉事故的处理</td>\n      <td>对韶钢2200m3高炉炉凉事故发生的原因进行了分析,认为原燃料质量下降、高炉操作处理不当和冷...</td>\n      <td>大型高炉_炉凉_高炉操作_原料</td>\n      <td>冶金工程</td>\n      <td>工学</td>\n    </tr>\n    <tr>\n      <th>41</th>\n      <td></td>\n      <td>一种新型二维光正交码的设计及性能分析</td>\n      <td>在保证误码率较低的前提下,为了获得较大的码容量,现以扩展二次素数码作为扩时序列,以二次全等跳...</td>\n      <td>光码分多址系统_扩展二次素数码_二次全等跳频码_误码率</td>\n      <td>信息与通信工程</td>\n      <td>工学</td>\n    </tr>\n    <tr>\n      <th>42</th>\n      <td></td>\n      <td>河蟹蜕壳时的管理措施</td>\n      <td>近几年来,我们对河蟹蜕壳前后的管理与最后的收成效益关系进行了观察研究,取得了一定的经验.现小...</td>\n      <td>河蟹_蜕壳_效益_经验_管理</td>\n      <td>水产</td>\n      <td>农学</td>\n    </tr>\n    <tr>\n      <th>43</th>\n      <td></td>\n      <td>全球化压力下的中国文化走向</td>\n      <td>在经济全球化的推动下,文化也正在冲破国家的、民族的文化壁垒.文化的全球化打破了地区和本土文化...</td>\n      <td>全球化_文化_走向</td>\n      <td>政治学</td>\n      <td>法学</td>\n    </tr>\n    <tr>\n      <th>44</th>\n      <td></td>\n      <td>猕猴桃籽油微胶囊化技术研究</td>\n      <td>猕猴桃籽油中不饱和脂肪酸含量较高,特别是亚麻酸含量高达63.99%.为防止猕猴桃籽油的氧化,...</td>\n      <td>猕猴桃籽油_微胶囊_喷雾干燥</td>\n      <td>农业工程</td>\n      <td>工学</td>\n    </tr>\n    <tr>\n      <th>45</th>\n      <td></td>\n      <td>考虑气象特征提取的短期风速预测方法</td>\n      <td>为提高短期风速预测精度,研究了考虑气象特征提取的短期风速预测方法.针对输入气象特征较多且难以...</td>\n      <td>短期风速预测_珊瑚礁算法_极限学习机_特征提取_气象特征</td>\n      <td>控制科学与工程</td>\n      <td>工学</td>\n    </tr>\n    <tr>\n      <th>46</th>\n      <td></td>\n      <td>三江平原12种湿地植物光合特性与叶功能性状的关系研究</td>\n      <td>采用野外气体交换测量和实验室分析等方法,对三江平原湿地12种优势草本植物的光合生理指标、植物...</td>\n      <td>光合特性_叶功能性状_湿地植物_三江平原</td>\n      <td>地理学</td>\n      <td>理学</td>\n    </tr>\n    <tr>\n      <th>47</th>\n      <td></td>\n      <td>渤海、北黄海冰情与太平洋副热带高压的统计关系</td>\n      <td>对1975-2006年逐月太平洋副热带高压面积和强度指数序列与渤海、北黄海冰情等级序列进行了...</td>\n      <td>海冰_副热带高压_统计</td>\n      <td>海洋科学</td>\n      <td>理学</td>\n    </tr>\n    <tr>\n      <th>48</th>\n      <td></td>\n      <td>ESR和FSHβ基因对苏太猪断奶存活率的影响</td>\n      <td>衡量仔猪培育水平高低的一个重要指标就是仔猪断奶存活率.断奶存活率的高低关系着养猪生产效益的高...</td>\n      <td>基因对_苏太猪_断奶_存活率_分子生物技术_标记辅助选择_仔猪培育_繁殖性状_生产效益_遗传...</td>\n      <td>畜牧学/兽医学</td>\n      <td>农学</td>\n    </tr>\n  </tbody>\n</table>\n</div>"
     },
     "execution_count": 51,
     "metadata": {},
     "output_type": "execute_result"
    }
   ],
   "source": [
    "import pandas as pd\n",
    "import csv\n",
    "data40k = pd.read_table('../data/data40k.tsv', sep='\\t', encoding='UTF-8', header=0, on_bad_lines='skip',quoting=csv.QUOTE_NONE)\n",
    "data40k.insert(loc=0, column='sentence', value='')\n",
    "data40k"
   ]
  },
  {
   "cell_type": "code",
   "execution_count": 52,
   "metadata": {
    "collapsed": false,
    "jupyter": {
     "outputs_hidden": false
    }
   },
   "outputs": [
    {
     "data": {
      "text/plain": "3407"
     },
     "execution_count": 52,
     "metadata": {},
     "output_type": "execute_result"
    }
   ],
   "source": [
    "import torch\n",
    "import random\n",
    "import numpy as np\n",
    "def seed_everything(seed):\n",
    "    random.seed(seed)\n",
    "    np.random.seed(seed)\n",
    "    torch.manual_seed(seed)\n",
    "    torch.cuda.manual_seed_all(seed)\n",
    "    return seed\n",
    "seed_everything(seed)"
   ]
  },
  {
   "cell_type": "code",
   "execution_count": 53,
   "metadata": {
    "collapsed": false,
    "jupyter": {
     "outputs_hidden": false
    }
   },
   "outputs": [
    {
     "name": "stderr",
     "output_type": "stream",
     "text": [
      "100%|██████████| 49/49 [00:00<00:00, 777.78it/s]\n"
     ]
    },
    {
     "data": {
      "text/plain": "                                             sentence discipline category\n0   分布式系统中的检查点算法[PAD]检查点[PAD]分布式程序[PAD]异步检查点算法[PAD...         40        5\n1   轧辊的失效及其修复技术[PAD]冷轧辊[PAD]热轧辊[PAD]失效[PAD]修复[PAD]...         28        5\n2   活检钳不同预清洗方法的清洗质量评价[PAD]活检钳[PAD]清洗方法[PAD]预清洗[PAD...          9        2\n3   Rhn(n=2～20)团簇结构和磁特性[PAD]铑团簇[PAD]遗传算法[PAD]结构[PA...         58        9\n4   一种反激式DC-DC变换器设计与研究[PAD]反激式DC-DC变换器[PAD]寄生参数[PA...         34        5\n5   航天测控系统卫星鉴定技术研究[PAD]卫星鉴定[PAD]SLR卫星[PAD]EMBET[PA...         38        5\n6   不同能量摄入对围产期奶牛脂肪组织胰岛素受体mRNA丰度的影响[PAD]能量摄入[PAD]围产...          7        1\n7   重大军事行动报道的成功实践——兼谈对外开放军事行动中新闻的管控与发布[PAD]重大军事行动[...         46        7\n8   不忘艺术初心搞好高校“双创”[PAD]文化建设[PAD]高校[PAD]艺术教育[PAD]双创...         66       12\n9   一种业务概念模型驱动的需求分析与获取方法[PAD]军事电子信息系统[PAD]需求工程[PAD...          0        0\n10  暖温带幼林树轮宽度气候变化响应分析--以山东蒙山黑松树轮气候研究为例[PAD]蒙山[PAD]...          4        1\n11  关于集成化汽车故障诊断系统及其支持技术研究[PAD]汽车[PAD]故障诊断[PAD]集成系统...         15        5\n12  北秦岭西段胡店片麻状二长花岗岩LA-ICP-MS锆石U-Pb测年及其地质意义[PAD]北秦岭...         53        9\n13  太阳河自然保护区西南桦天然次生林乔木种群生态位分析[PAD]西南桦林[PAD]红木荷[PAD...          4        1\n14  锌对孕期暴露脂多糖Wistar大鼠雌性成年子代行为的影响及其机制[PAD]锌[PAD]孕期[...         41        5\n15  改进的遗传优化算法在节点定位中的应用[PAD]动力学[PAD]遗传算法[PAD]定位算法[P...         40        5\n16  求真务实 追求发展--黑龙江省图书馆学会工作新途径[PAD]学会工作[PAD]发展[PAD]...         62       10\n17  非水合质子导电膜材料的研究与应用[PAD]水合[PAD]质子导电材料[PAD]膜材料[PAD...         34        5\n18  超越结构功能主义:中国传播学的前世、今生与未来[PAD]结构[PAD]功能主义[PAD]中国...         46        7\n19  TPV系统热辐射发电模块数值分析[PAD]TPV[PAD]系统输出电能密度[PAD]电池效率...         58        9\n20  有机酸强化脱硫在喷射鼓泡反应器上实验研究[PAD]有机酸[PAD]石灰石[PAD]喷射鼓泡反...         32        5\n21  可持续的城市规划与建设花桥国际商务城的规划建设实践[PAD]花桥[PAD]可持续发展[PAD...         25        5\n22  江苏沿海大风特征及其变化分析[PAD]沿海大风[PAD]雷雨大风[PAD]季节特征[PAD]...         54        9\n23  超声波处理对鸭肫腌制工艺的影响研究[PAD]超声波[PAD]腌制工艺[PAD]鸭肫[PAD]...         41        5\n24  高温水中不锈钢和镍基合金应力腐蚀破裂研究进展[PAD]核能[PAD]高温水[PAD]不锈钢[...         29        5\n25  Nb、Ti微合金钢中碳氮化物固溶与再析出的研究[PAD]微合金钢[PAD]碳氮化物[PAD]...         28        5\n26  ITO/Rubrene表面及界面的AFM和XPS研究[PAD]XPS[PAD]Rubrene...         17        5\n27  几种杀菌剂及其混配剂对香蕉枯萎病菌的毒力测定[PAD]香蕉枯萎病菌[PAD]杀菌剂[PAD]...          5        1\n28  高压超临界萃取装置的模糊PID控制方法[PAD]PID[PAD]超临界萃取[PAD]模糊控制...         26        5\n29  城市化对水系结构及其连通性的影响——以秦淮河中、下游为例[PAD]水系结构[PAD]连通性[...         52        9\n30  重力坝地质力学模型变位特征及安全系数分析[PAD]光纤传感器[PAD]位移监测[PAD]重力...         30        5\n31  高钙飞灰的矿物学组成及微区特征研究[PAD]高钙飞灰[PAD]密度分选[PAD]矿物学[PA...         22        5\n32  随机微分方程的强解[PAD]It(o)-Ventzell公式[PAD]随机偏微分方程[PAD...         56        9\n33  光学非球面三坐标测量中的像散补偿[PAD]非球面检测[PAD]三坐标测量仪[PAD]测头半径...         17        5\n34  基于DEM的分布式并行通视分析算法研究[PAD]DEM[PAD]通视分析[PAD]分布式并行...         52        9\n35  一种基于谱分析的非带限卫星信号信噪比估计算法[PAD]信噪比估计[PAD]谱分析[PAD]非...          0        0\n36  小动物PET/CT活体成像时小鼠体温控制系统的设计[PAD]正电子发射断层显像术[PAD]体...         11        2\n37  \"SST对台风\"珍珠\"影响的数值试验\"[PAD]WRF[PAD]数值试验[PAD]SST[P...         57        9\n38  依维莫司的合成[PAD]依维莫司[PAD]大环内酯类化合物[PAD]抗肿瘤药[PAD]三氟甲...         12        2\n39  由斑玛云杉年表重建青海高原东南部夏季降水序列[PAD]云杉[PAD]年轮[PAD]夏季降水[...         54        9\n40  韶钢2200 m3高炉炉凉事故的处理[PAD]大型高炉[PAD]炉凉[PAD]高炉操作[PA...         20        5\n41  一种新型二维光正交码的设计及性能分析[PAD]光码分多址系统[PAD]扩展二次素数码[PAD...         16        5\n42  河蟹蜕壳时的管理措施[PAD]河蟹[PAD]蜕壳[PAD]效益[PAD]经验[PAD]管理[...          6        1\n43  全球化压力下的中国文化走向[PAD]全球化[PAD]文化[PAD]走向[PAD]在经济全球化...         47        8\n44  猕猴桃籽油微胶囊化技术研究[PAD]猕猴桃籽油[PAD]微胶囊[PAD]喷雾干燥[PAD]猕...         19        5\n45  考虑气象特征提取的短期风速预测方法[PAD]短期风速预测[PAD]珊瑚礁算法[PAD]极限学...         26        5\n46  三江平原12种湿地植物光合特性与叶功能性状的关系研究[PAD]光合特性[PAD]叶功能性状[...         52        9\n47  渤海、北黄海冰情与太平洋副热带高压的统计关系[PAD]海冰[PAD]副热带高压[PAD]统计...         57        9\n48  ESR和FSHβ基因对苏太猪断奶存活率的影响[PAD]基因对[PAD]苏太猪[PAD]断奶[...          7        1",
      "text/html": "<div>\n<style scoped>\n    .dataframe tbody tr th:only-of-type {\n        vertical-align: middle;\n    }\n\n    .dataframe tbody tr th {\n        vertical-align: top;\n    }\n\n    .dataframe thead th {\n        text-align: right;\n    }\n</style>\n<table border=\"1\" class=\"dataframe\">\n  <thead>\n    <tr style=\"text-align: right;\">\n      <th></th>\n      <th>sentence</th>\n      <th>discipline</th>\n      <th>category</th>\n    </tr>\n  </thead>\n  <tbody>\n    <tr>\n      <th>0</th>\n      <td>分布式系统中的检查点算法[PAD]检查点[PAD]分布式程序[PAD]异步检查点算法[PAD...</td>\n      <td>40</td>\n      <td>5</td>\n    </tr>\n    <tr>\n      <th>1</th>\n      <td>轧辊的失效及其修复技术[PAD]冷轧辊[PAD]热轧辊[PAD]失效[PAD]修复[PAD]...</td>\n      <td>28</td>\n      <td>5</td>\n    </tr>\n    <tr>\n      <th>2</th>\n      <td>活检钳不同预清洗方法的清洗质量评价[PAD]活检钳[PAD]清洗方法[PAD]预清洗[PAD...</td>\n      <td>9</td>\n      <td>2</td>\n    </tr>\n    <tr>\n      <th>3</th>\n      <td>Rhn(n=2～20)团簇结构和磁特性[PAD]铑团簇[PAD]遗传算法[PAD]结构[PA...</td>\n      <td>58</td>\n      <td>9</td>\n    </tr>\n    <tr>\n      <th>4</th>\n      <td>一种反激式DC-DC变换器设计与研究[PAD]反激式DC-DC变换器[PAD]寄生参数[PA...</td>\n      <td>34</td>\n      <td>5</td>\n    </tr>\n    <tr>\n      <th>5</th>\n      <td>航天测控系统卫星鉴定技术研究[PAD]卫星鉴定[PAD]SLR卫星[PAD]EMBET[PA...</td>\n      <td>38</td>\n      <td>5</td>\n    </tr>\n    <tr>\n      <th>6</th>\n      <td>不同能量摄入对围产期奶牛脂肪组织胰岛素受体mRNA丰度的影响[PAD]能量摄入[PAD]围产...</td>\n      <td>7</td>\n      <td>1</td>\n    </tr>\n    <tr>\n      <th>7</th>\n      <td>重大军事行动报道的成功实践——兼谈对外开放军事行动中新闻的管控与发布[PAD]重大军事行动[...</td>\n      <td>46</td>\n      <td>7</td>\n    </tr>\n    <tr>\n      <th>8</th>\n      <td>不忘艺术初心搞好高校“双创”[PAD]文化建设[PAD]高校[PAD]艺术教育[PAD]双创...</td>\n      <td>66</td>\n      <td>12</td>\n    </tr>\n    <tr>\n      <th>9</th>\n      <td>一种业务概念模型驱动的需求分析与获取方法[PAD]军事电子信息系统[PAD]需求工程[PAD...</td>\n      <td>0</td>\n      <td>0</td>\n    </tr>\n    <tr>\n      <th>10</th>\n      <td>暖温带幼林树轮宽度气候变化响应分析--以山东蒙山黑松树轮气候研究为例[PAD]蒙山[PAD]...</td>\n      <td>4</td>\n      <td>1</td>\n    </tr>\n    <tr>\n      <th>11</th>\n      <td>关于集成化汽车故障诊断系统及其支持技术研究[PAD]汽车[PAD]故障诊断[PAD]集成系统...</td>\n      <td>15</td>\n      <td>5</td>\n    </tr>\n    <tr>\n      <th>12</th>\n      <td>北秦岭西段胡店片麻状二长花岗岩LA-ICP-MS锆石U-Pb测年及其地质意义[PAD]北秦岭...</td>\n      <td>53</td>\n      <td>9</td>\n    </tr>\n    <tr>\n      <th>13</th>\n      <td>太阳河自然保护区西南桦天然次生林乔木种群生态位分析[PAD]西南桦林[PAD]红木荷[PAD...</td>\n      <td>4</td>\n      <td>1</td>\n    </tr>\n    <tr>\n      <th>14</th>\n      <td>锌对孕期暴露脂多糖Wistar大鼠雌性成年子代行为的影响及其机制[PAD]锌[PAD]孕期[...</td>\n      <td>41</td>\n      <td>5</td>\n    </tr>\n    <tr>\n      <th>15</th>\n      <td>改进的遗传优化算法在节点定位中的应用[PAD]动力学[PAD]遗传算法[PAD]定位算法[P...</td>\n      <td>40</td>\n      <td>5</td>\n    </tr>\n    <tr>\n      <th>16</th>\n      <td>求真务实 追求发展--黑龙江省图书馆学会工作新途径[PAD]学会工作[PAD]发展[PAD]...</td>\n      <td>62</td>\n      <td>10</td>\n    </tr>\n    <tr>\n      <th>17</th>\n      <td>非水合质子导电膜材料的研究与应用[PAD]水合[PAD]质子导电材料[PAD]膜材料[PAD...</td>\n      <td>34</td>\n      <td>5</td>\n    </tr>\n    <tr>\n      <th>18</th>\n      <td>超越结构功能主义:中国传播学的前世、今生与未来[PAD]结构[PAD]功能主义[PAD]中国...</td>\n      <td>46</td>\n      <td>7</td>\n    </tr>\n    <tr>\n      <th>19</th>\n      <td>TPV系统热辐射发电模块数值分析[PAD]TPV[PAD]系统输出电能密度[PAD]电池效率...</td>\n      <td>58</td>\n      <td>9</td>\n    </tr>\n    <tr>\n      <th>20</th>\n      <td>有机酸强化脱硫在喷射鼓泡反应器上实验研究[PAD]有机酸[PAD]石灰石[PAD]喷射鼓泡反...</td>\n      <td>32</td>\n      <td>5</td>\n    </tr>\n    <tr>\n      <th>21</th>\n      <td>可持续的城市规划与建设花桥国际商务城的规划建设实践[PAD]花桥[PAD]可持续发展[PAD...</td>\n      <td>25</td>\n      <td>5</td>\n    </tr>\n    <tr>\n      <th>22</th>\n      <td>江苏沿海大风特征及其变化分析[PAD]沿海大风[PAD]雷雨大风[PAD]季节特征[PAD]...</td>\n      <td>54</td>\n      <td>9</td>\n    </tr>\n    <tr>\n      <th>23</th>\n      <td>超声波处理对鸭肫腌制工艺的影响研究[PAD]超声波[PAD]腌制工艺[PAD]鸭肫[PAD]...</td>\n      <td>41</td>\n      <td>5</td>\n    </tr>\n    <tr>\n      <th>24</th>\n      <td>高温水中不锈钢和镍基合金应力腐蚀破裂研究进展[PAD]核能[PAD]高温水[PAD]不锈钢[...</td>\n      <td>29</td>\n      <td>5</td>\n    </tr>\n    <tr>\n      <th>25</th>\n      <td>Nb、Ti微合金钢中碳氮化物固溶与再析出的研究[PAD]微合金钢[PAD]碳氮化物[PAD]...</td>\n      <td>28</td>\n      <td>5</td>\n    </tr>\n    <tr>\n      <th>26</th>\n      <td>ITO/Rubrene表面及界面的AFM和XPS研究[PAD]XPS[PAD]Rubrene...</td>\n      <td>17</td>\n      <td>5</td>\n    </tr>\n    <tr>\n      <th>27</th>\n      <td>几种杀菌剂及其混配剂对香蕉枯萎病菌的毒力测定[PAD]香蕉枯萎病菌[PAD]杀菌剂[PAD]...</td>\n      <td>5</td>\n      <td>1</td>\n    </tr>\n    <tr>\n      <th>28</th>\n      <td>高压超临界萃取装置的模糊PID控制方法[PAD]PID[PAD]超临界萃取[PAD]模糊控制...</td>\n      <td>26</td>\n      <td>5</td>\n    </tr>\n    <tr>\n      <th>29</th>\n      <td>城市化对水系结构及其连通性的影响——以秦淮河中、下游为例[PAD]水系结构[PAD]连通性[...</td>\n      <td>52</td>\n      <td>9</td>\n    </tr>\n    <tr>\n      <th>30</th>\n      <td>重力坝地质力学模型变位特征及安全系数分析[PAD]光纤传感器[PAD]位移监测[PAD]重力...</td>\n      <td>30</td>\n      <td>5</td>\n    </tr>\n    <tr>\n      <th>31</th>\n      <td>高钙飞灰的矿物学组成及微区特征研究[PAD]高钙飞灰[PAD]密度分选[PAD]矿物学[PA...</td>\n      <td>22</td>\n      <td>5</td>\n    </tr>\n    <tr>\n      <th>32</th>\n      <td>随机微分方程的强解[PAD]It(o)-Ventzell公式[PAD]随机偏微分方程[PAD...</td>\n      <td>56</td>\n      <td>9</td>\n    </tr>\n    <tr>\n      <th>33</th>\n      <td>光学非球面三坐标测量中的像散补偿[PAD]非球面检测[PAD]三坐标测量仪[PAD]测头半径...</td>\n      <td>17</td>\n      <td>5</td>\n    </tr>\n    <tr>\n      <th>34</th>\n      <td>基于DEM的分布式并行通视分析算法研究[PAD]DEM[PAD]通视分析[PAD]分布式并行...</td>\n      <td>52</td>\n      <td>9</td>\n    </tr>\n    <tr>\n      <th>35</th>\n      <td>一种基于谱分析的非带限卫星信号信噪比估计算法[PAD]信噪比估计[PAD]谱分析[PAD]非...</td>\n      <td>0</td>\n      <td>0</td>\n    </tr>\n    <tr>\n      <th>36</th>\n      <td>小动物PET/CT活体成像时小鼠体温控制系统的设计[PAD]正电子发射断层显像术[PAD]体...</td>\n      <td>11</td>\n      <td>2</td>\n    </tr>\n    <tr>\n      <th>37</th>\n      <td>\"SST对台风\"珍珠\"影响的数值试验\"[PAD]WRF[PAD]数值试验[PAD]SST[P...</td>\n      <td>57</td>\n      <td>9</td>\n    </tr>\n    <tr>\n      <th>38</th>\n      <td>依维莫司的合成[PAD]依维莫司[PAD]大环内酯类化合物[PAD]抗肿瘤药[PAD]三氟甲...</td>\n      <td>12</td>\n      <td>2</td>\n    </tr>\n    <tr>\n      <th>39</th>\n      <td>由斑玛云杉年表重建青海高原东南部夏季降水序列[PAD]云杉[PAD]年轮[PAD]夏季降水[...</td>\n      <td>54</td>\n      <td>9</td>\n    </tr>\n    <tr>\n      <th>40</th>\n      <td>韶钢2200 m3高炉炉凉事故的处理[PAD]大型高炉[PAD]炉凉[PAD]高炉操作[PA...</td>\n      <td>20</td>\n      <td>5</td>\n    </tr>\n    <tr>\n      <th>41</th>\n      <td>一种新型二维光正交码的设计及性能分析[PAD]光码分多址系统[PAD]扩展二次素数码[PAD...</td>\n      <td>16</td>\n      <td>5</td>\n    </tr>\n    <tr>\n      <th>42</th>\n      <td>河蟹蜕壳时的管理措施[PAD]河蟹[PAD]蜕壳[PAD]效益[PAD]经验[PAD]管理[...</td>\n      <td>6</td>\n      <td>1</td>\n    </tr>\n    <tr>\n      <th>43</th>\n      <td>全球化压力下的中国文化走向[PAD]全球化[PAD]文化[PAD]走向[PAD]在经济全球化...</td>\n      <td>47</td>\n      <td>8</td>\n    </tr>\n    <tr>\n      <th>44</th>\n      <td>猕猴桃籽油微胶囊化技术研究[PAD]猕猴桃籽油[PAD]微胶囊[PAD]喷雾干燥[PAD]猕...</td>\n      <td>19</td>\n      <td>5</td>\n    </tr>\n    <tr>\n      <th>45</th>\n      <td>考虑气象特征提取的短期风速预测方法[PAD]短期风速预测[PAD]珊瑚礁算法[PAD]极限学...</td>\n      <td>26</td>\n      <td>5</td>\n    </tr>\n    <tr>\n      <th>46</th>\n      <td>三江平原12种湿地植物光合特性与叶功能性状的关系研究[PAD]光合特性[PAD]叶功能性状[...</td>\n      <td>52</td>\n      <td>9</td>\n    </tr>\n    <tr>\n      <th>47</th>\n      <td>渤海、北黄海冰情与太平洋副热带高压的统计关系[PAD]海冰[PAD]副热带高压[PAD]统计...</td>\n      <td>57</td>\n      <td>9</td>\n    </tr>\n    <tr>\n      <th>48</th>\n      <td>ESR和FSHβ基因对苏太猪断奶存活率的影响[PAD]基因对[PAD]苏太猪[PAD]断奶[...</td>\n      <td>7</td>\n      <td>1</td>\n    </tr>\n  </tbody>\n</table>\n</div>"
     },
     "execution_count": 53,
     "metadata": {},
     "output_type": "execute_result"
    }
   ],
   "source": [
    "from tqdm import tqdm\n",
    "\n",
    "for i in tqdm(range(data40k.shape[0])):\n",
    "    sentence = data40k['title'][i] + \"[PAD]\"\n",
    "    keywords = data40k['keywords'][i].split('_')\n",
    "    for j in range(len(keywords)):\n",
    "        sentence = sentence + keywords[j] + '[PAD]'\n",
    "    sentence = sentence + data40k['abstract'][i]\n",
    "    if head_tail and max_length == 512 and len(sentence) > 512:\n",
    "        sentence = sentence[0:256] + sentence[-257:-1]\n",
    "    data40k['sentence'][i] = sentence\n",
    "    try:\n",
    "        data40k['category'][i] = dict_category_en[data40k['category'][i]] % 100\n",
    "        data40k['discipline'][i] = dict_discipline_en[data40k['discipline'][i]] % 100\n",
    "    except KeyError:\n",
    "        print(i)\n",
    "data40k = data40k.drop(labels='title', axis=1)\n",
    "data40k = data40k.drop(labels='abstract', axis=1)\n",
    "data40k = data40k.drop(labels='keywords', axis=1)\n",
    "#data40k = data40k.sample(frac=1.0)  # 将数据打乱\n",
    "data40k"
   ]
  },
  {
   "cell_type": "code",
   "execution_count": 54,
   "metadata": {
    "collapsed": false,
    "jupyter": {
     "outputs_hidden": false
    }
   },
   "outputs": [],
   "source": [
    "def save_to_tsv():\n",
    "    global data40k\n",
    "    rows, cols = data40k.shape\n",
    "    split_index_1 = 4000\n",
    "    split_index_2 = 8000\n",
    "    #数据分割\n",
    "    test_dataset: pd.DataFrame = data40k.iloc[0: split_index_1, :]\n",
    "    validate_dataset: pd.DataFrame = data40k.iloc[split_index_1:split_index_2, :]\n",
    "    train_dataset: pd.DataFrame = data40k.iloc[split_index_2: rows, :]\n",
    "\n",
    "    #设置保存路径\n",
    "    data_path = \"../data/ft40k.tsv\"\n",
    "    train_data_path = \"../data/ft40k_train.tsv\"\n",
    "    val_data_path = \"../data/ft40k_val.tsv\"\n",
    "    test_data_path = \"../data/ft40k_test.tsv\"\n",
    "\n",
    "    # #index参数设置为False表示不保存行索引,header设置为True表示保存列索引\n",
    "    data40k.to_csv(data_path, index=False, header=True, sep='\\t')\n",
    "    train_dataset.to_csv(train_data_path, index=False, header=True, sep='\\t')\n",
    "    validate_dataset.to_csv(val_data_path, index=False, header=True, sep='\\t')\n",
    "    test_dataset.to_csv(test_data_path, index=False, header=True, sep='\\t')\n",
    "#save_to_tsv()"
   ]
  },
  {
   "cell_type": "code",
   "execution_count": 55,
   "metadata": {
    "collapsed": false,
    "jupyter": {
     "outputs_hidden": false
    }
   },
   "outputs": [
    {
     "data": {
      "text/plain": "Dataset({\n    features: ['sentence', 'discipline', 'category'],\n    num_rows: 49\n})"
     },
     "execution_count": 55,
     "metadata": {},
     "output_type": "execute_result"
    }
   ],
   "source": [
    "from datasets import Dataset\n",
    "dataset = Dataset.from_pandas(data40k)\n",
    "dataset"
   ]
  },
  {
   "cell_type": "code",
   "execution_count": 56,
   "metadata": {
    "collapsed": false,
    "jupyter": {
     "outputs_hidden": false
    }
   },
   "outputs": [
    {
     "name": "stderr",
     "output_type": "stream",
     "text": [
      "'HTTPSConnectionPool(host='huggingface.co', port=443): Max retries exceeded with url: /bert-base-chinese/resolve/main/vocab.txt (Caused by ConnectTimeoutError(<urllib3.connection.HTTPSConnection object at 0x000001676D2CA7F0>, 'Connection to huggingface.co timed out. (connect timeout=10)'))' thrown while requesting HEAD https://huggingface.co/bert-base-chinese/resolve/main/vocab.txt\n"
     ]
    }
   ],
   "source": [
    "model_path = 'bert-base-chinese'\n",
    "vocab_path = model_path\n",
    "from transformers import BertTokenizer\n",
    "tokenizer = BertTokenizer.from_pretrained(vocab_path)"
   ]
  },
  {
   "cell_type": "code",
   "execution_count": 57,
   "metadata": {
    "collapsed": false,
    "jupyter": {
     "outputs_hidden": false
    }
   },
   "outputs": [
    {
     "name": "stderr",
     "output_type": "stream",
     "text": [
      "  0%|          | 0/1 [00:00<?, ?ba/s]\n"
     ]
    },
    {
     "data": {
      "text/plain": "Dataset({\n    features: ['sentence', 'discipline', 'category', 'input_ids', 'token_type_ids', 'attention_mask'],\n    num_rows: 49\n})"
     },
     "execution_count": 57,
     "metadata": {},
     "output_type": "execute_result"
    }
   ],
   "source": [
    "def tokenization(example):\n",
    "    return tokenizer(example[\"sentence\"], truncation=True, padding=\"max_length\", max_length=max_length)\n",
    "\n",
    "dataset = dataset.map(tokenization, batched=True)\n",
    "dataset"
   ]
  },
  {
   "cell_type": "code",
   "execution_count": 58,
   "metadata": {
    "collapsed": false,
    "jupyter": {
     "outputs_hidden": false
    }
   },
   "outputs": [
    {
     "name": "stderr",
     "output_type": "stream",
     "text": [
      "  0%|          | 0/1 [00:00<?, ?ba/s]\n"
     ]
    },
    {
     "data": {
      "text/plain": "Dataset({\n    features: ['sentence', 'discipline', 'category', 'input_ids', 'token_type_ids', 'attention_mask', 'labels'],\n    num_rows: 49\n})"
     },
     "execution_count": 58,
     "metadata": {},
     "output_type": "execute_result"
    }
   ],
   "source": [
    "#以category为分类标签\n",
    "dataset = dataset.map(lambda examples: {\"labels\": examples[\"category\"]}, batched=True)\n",
    "dataset"
   ]
  },
  {
   "cell_type": "code",
   "execution_count": 59,
   "metadata": {
    "collapsed": false,
    "jupyter": {
     "outputs_hidden": false
    }
   },
   "outputs": [
    {
     "data": {
      "text/plain": "Dataset({\n    features: ['sentence', 'discipline', 'category', 'input_ids', 'token_type_ids', 'attention_mask', 'labels'],\n    num_rows: 49\n})"
     },
     "execution_count": 59,
     "metadata": {},
     "output_type": "execute_result"
    }
   ],
   "source": [
    "dataset.set_format(type=\"torch\", columns=[\"sentence\",\"input_ids\", \"token_type_ids\", \"attention_mask\",\"category\",\"labels\",\"discipline\"])\n",
    "dataset"
   ]
  },
  {
   "cell_type": "code",
   "execution_count": 60,
   "metadata": {
    "collapsed": false,
    "jupyter": {
     "outputs_hidden": false
    }
   },
   "outputs": [
    {
     "name": "stderr",
     "output_type": "stream",
     "text": [
      "  0%|          | 0/1 [00:00<?, ?ba/s]\n"
     ]
    }
   ],
   "source": [
    "#先转化为tensor才有clone()函数\n",
    "import numpy as np\n",
    "#对位取与，使手动加入的[PAD]不加入注意力计算\n",
    "def fix_attention_mask(example):\n",
    "    example['attention_mask'] = np.logical_and(example['input_ids'],example['attention_mask']).clone()\n",
    "    return example\n",
    "\n",
    "dataset = dataset.map(fix_attention_mask, batched=True)"
   ]
  },
  {
   "cell_type": "code",
   "execution_count": 61,
   "metadata": {
    "collapsed": false,
    "jupyter": {
     "outputs_hidden": false
    }
   },
   "outputs": [],
   "source": [
    "dataset = dataset.remove_columns([\"sentence\",\"token_type_ids\",\"discipline\",\"category\"])"
   ]
  },
  {
   "cell_type": "code",
   "execution_count": 62,
   "metadata": {
    "collapsed": false,
    "jupyter": {
     "outputs_hidden": false
    }
   },
   "outputs": [
    {
     "data": {
      "text/plain": "DatasetDict({\n    train: Dataset({\n        features: ['input_ids', 'attention_mask', 'labels'],\n        num_rows: 44\n    })\n    test: Dataset({\n        features: ['input_ids', 'attention_mask', 'labels'],\n        num_rows: 5\n    })\n})"
     },
     "execution_count": 62,
     "metadata": {},
     "output_type": "execute_result"
    }
   ],
   "source": [
    "#测试集10%，验证集直接从训练集中抽取，拆分前打乱数据，设置seed便于复现\n",
    "dataset=dataset.train_test_split(test_size=0.1,shuffle=True,seed=seed)\n",
    "dataset"
   ]
  },
  {
   "cell_type": "code",
   "execution_count": 63,
   "metadata": {
    "collapsed": false,
    "jupyter": {
     "outputs_hidden": false
    }
   },
   "outputs": [
    {
     "data": {
      "text/plain": "{'input_ids': tensor([ 101, 3736, 5722, 3784, 3862, 1920, 7599, 4294, 2519, 1350, 1071, 1359,\n         1265, 1146, 3358,    0, 3784, 3862, 1920, 7599,    0, 7440, 7433, 1920,\n         7599,    0, 2108, 5688, 4294, 2519,    0, 1921, 3698, 2768, 1728,    0,\n         1164, 4500, 8785,  118, 8166, 2399, 3736, 5722, 3784, 3862, 1765, 1277,\n         4638, 1920, 7599, 6598, 3160,  117, 1146, 3358, 8114,  143, 3784, 3862,\n         1920, 7599, 3698,  952, 4294, 2519,  117, 5310, 3362, 6134, 3209,  131,\n         3736, 5722, 3784, 3862, 1765, 1277, 3297, 1920, 7599, 6862,  395, 8158,\n         5277, 1469,  395, 8156, 5277, 1920, 7599,  117, 1439, 6852, 2399, 6853,\n         1121, 6633, 1232,  119, 1909, 2108,  117, 3736, 5722, 3784, 3862, 1920,\n         7599,  809,  691, 1298, 7599,  711,  712,  132, 4904,  510, 1100, 2108,\n          117,  809,  974, 1266, 7599,  711,  712,  132, 5445, 3217, 2108,  117,\n         3784, 3862, 1920, 7599,  809,  974, 1266, 7599,  711,  712,  117,  691,\n         1298, 7599, 3613, 1914,  119, 1107, 4958, 3698,  974, 1266, 1920, 7599,\n          809, 1100, 2108, 3297,  711, 2382, 6224,  117,  856, 1327,  113, 3698,\n         3181,  114, 1920, 7599, 1469, 1057, 3862, 7770, 1327, 1400, 6956, 1920,\n         7599, 3211, 1355, 4495, 1762, 3217,  510, 1909,  697, 2108,  117, 7440,\n         7433, 1920, 7599,  712, 6206, 1355, 4495, 1762, 1909, 2108,  117, 1378,\n         7599, 1920, 7599,  712, 6206, 1355, 4495, 1762, 1909, 2108, 1469, 4904,\n         2108,  119,  102,    0,    0,    0,    0,    0,    0,    0,    0,    0,\n            0,    0,    0,    0,    0,    0,    0,    0,    0,    0,    0,    0,\n            0,    0,    0,    0,    0,    0,    0,    0,    0,    0,    0,    0,\n            0,    0,    0,    0,    0,    0,    0,    0,    0,    0,    0,    0,\n            0,    0,    0,    0,    0,    0,    0,    0,    0,    0,    0,    0,\n            0,    0,    0,    0,    0,    0,    0,    0,    0,    0,    0,    0,\n            0,    0,    0,    0,    0,    0,    0,    0,    0,    0,    0,    0,\n            0,    0,    0,    0,    0,    0,    0,    0,    0,    0,    0,    0,\n            0,    0,    0,    0,    0,    0,    0,    0,    0,    0,    0,    0,\n            0,    0,    0,    0,    0,    0,    0,    0,    0,    0,    0,    0,\n            0,    0,    0,    0,    0,    0,    0,    0,    0,    0,    0,    0,\n            0,    0,    0,    0,    0,    0,    0,    0,    0,    0,    0,    0,\n            0,    0,    0,    0,    0,    0,    0,    0,    0,    0,    0,    0,\n            0,    0,    0,    0,    0,    0,    0,    0,    0,    0,    0,    0,\n            0,    0,    0,    0,    0,    0,    0,    0,    0,    0,    0,    0,\n            0,    0,    0,    0,    0,    0,    0,    0,    0,    0,    0,    0,\n            0,    0,    0,    0,    0,    0,    0,    0,    0,    0,    0,    0,\n            0,    0,    0,    0,    0,    0,    0,    0,    0,    0,    0,    0,\n            0,    0,    0,    0,    0,    0,    0,    0,    0,    0,    0,    0,\n            0,    0,    0,    0,    0,    0,    0,    0,    0,    0,    0,    0,\n            0,    0,    0,    0,    0,    0,    0,    0,    0,    0,    0,    0,\n            0,    0,    0,    0,    0,    0,    0,    0,    0,    0,    0,    0,\n            0,    0,    0,    0,    0,    0,    0,    0,    0,    0,    0,    0,\n            0,    0,    0,    0,    0,    0,    0,    0,    0,    0,    0,    0,\n            0,    0,    0,    0,    0,    0,    0,    0]),\n 'attention_mask': tensor([1, 1, 1, 1, 1, 1, 1, 1, 1, 1, 1, 1, 1, 1, 1, 0, 1, 1, 1, 1, 0, 1, 1, 1,\n         1, 0, 1, 1, 1, 1, 0, 1, 1, 1, 1, 0, 1, 1, 1, 1, 1, 1, 1, 1, 1, 1, 1, 1,\n         1, 1, 1, 1, 1, 1, 1, 1, 1, 1, 1, 1, 1, 1, 1, 1, 1, 1, 1, 1, 1, 1, 1, 1,\n         1, 1, 1, 1, 1, 1, 1, 1, 1, 1, 1, 1, 1, 1, 1, 1, 1, 1, 1, 1, 1, 1, 1, 1,\n         1, 1, 1, 1, 1, 1, 1, 1, 1, 1, 1, 1, 1, 1, 1, 1, 1, 1, 1, 1, 1, 1, 1, 1,\n         1, 1, 1, 1, 1, 1, 1, 1, 1, 1, 1, 1, 1, 1, 1, 1, 1, 1, 1, 1, 1, 1, 1, 1,\n         1, 1, 1, 1, 1, 1, 1, 1, 1, 1, 1, 1, 1, 1, 1, 1, 1, 1, 1, 1, 1, 1, 1, 1,\n         1, 1, 1, 1, 1, 1, 1, 1, 1, 1, 1, 1, 1, 1, 1, 1, 1, 1, 1, 1, 1, 1, 1, 1,\n         1, 1, 1, 1, 1, 1, 1, 1, 1, 1, 1, 1, 1, 1, 1, 1, 1, 1, 1, 1, 1, 1, 1, 1,\n         1, 1, 1, 0, 0, 0, 0, 0, 0, 0, 0, 0, 0, 0, 0, 0, 0, 0, 0, 0, 0, 0, 0, 0,\n         0, 0, 0, 0, 0, 0, 0, 0, 0, 0, 0, 0, 0, 0, 0, 0, 0, 0, 0, 0, 0, 0, 0, 0,\n         0, 0, 0, 0, 0, 0, 0, 0, 0, 0, 0, 0, 0, 0, 0, 0, 0, 0, 0, 0, 0, 0, 0, 0,\n         0, 0, 0, 0, 0, 0, 0, 0, 0, 0, 0, 0, 0, 0, 0, 0, 0, 0, 0, 0, 0, 0, 0, 0,\n         0, 0, 0, 0, 0, 0, 0, 0, 0, 0, 0, 0, 0, 0, 0, 0, 0, 0, 0, 0, 0, 0, 0, 0,\n         0, 0, 0, 0, 0, 0, 0, 0, 0, 0, 0, 0, 0, 0, 0, 0, 0, 0, 0, 0, 0, 0, 0, 0,\n         0, 0, 0, 0, 0, 0, 0, 0, 0, 0, 0, 0, 0, 0, 0, 0, 0, 0, 0, 0, 0, 0, 0, 0,\n         0, 0, 0, 0, 0, 0, 0, 0, 0, 0, 0, 0, 0, 0, 0, 0, 0, 0, 0, 0, 0, 0, 0, 0,\n         0, 0, 0, 0, 0, 0, 0, 0, 0, 0, 0, 0, 0, 0, 0, 0, 0, 0, 0, 0, 0, 0, 0, 0,\n         0, 0, 0, 0, 0, 0, 0, 0, 0, 0, 0, 0, 0, 0, 0, 0, 0, 0, 0, 0, 0, 0, 0, 0,\n         0, 0, 0, 0, 0, 0, 0, 0, 0, 0, 0, 0, 0, 0, 0, 0, 0, 0, 0, 0, 0, 0, 0, 0,\n         0, 0, 0, 0, 0, 0, 0, 0, 0, 0, 0, 0, 0, 0, 0, 0, 0, 0, 0, 0, 0, 0, 0, 0,\n         0, 0, 0, 0, 0, 0, 0, 0]),\n 'labels': tensor(9)}"
     },
     "execution_count": 63,
     "metadata": {},
     "output_type": "execute_result"
    }
   ],
   "source": [
    "dataset[\"train\"][0]"
   ]
  },
  {
   "cell_type": "code",
   "execution_count": 64,
   "metadata": {
    "collapsed": false,
    "jupyter": {
     "outputs_hidden": false
    }
   },
   "outputs": [
    {
     "name": "stderr",
     "output_type": "stream",
     "text": [
      "Flattening the indices:   0%|          | 0/1 [00:00<?, ?ba/s]\n",
      "Flattening the indices:   0%|          | 0/1 [00:00<?, ?ba/s]\n"
     ]
    }
   ],
   "source": [
    "dataset.save_to_disk(save_path)\n"
   ]
  }
 ],
 "metadata": {
  "kernelspec": {
   "display_name": "Python 3 (ipykernel)",
   "language": "python",
   "name": "python3"
  },
  "language_info": {
   "codemirror_mode": {
    "name": "ipython",
    "version": 3
   },
   "file_extension": ".py",
   "mimetype": "text/x-python",
   "name": "python",
   "nbconvert_exporter": "python",
   "pygments_lexer": "ipython3",
   "version": "3.8.10"
  }
 },
 "nbformat": 4,
 "nbformat_minor": 4
}
